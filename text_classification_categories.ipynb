{
 "cells": [
  {
   "cell_type": "markdown",
   "id": "85c37c9d",
   "metadata": {},
   "source": [
    "# Import modules"
   ]
  },
  {
   "cell_type": "code",
   "execution_count": 103,
   "id": "1dee785b",
   "metadata": {},
   "outputs": [],
   "source": [
    "import pandas as pd\n",
    "import nltk\n",
    "from nltk.corpus import stopwords\n",
    "import re\n",
    "import string\n",
    "from nltk.tokenize import word_tokenize\n",
    "from nltk.corpus import stopwords\n",
    "from nltk.stem.wordnet import WordNetLemmatizer"
   ]
  },
  {
   "cell_type": "markdown",
   "id": "08f0804a",
   "metadata": {},
   "source": [
    "# Import scraped data using 3 API tokens and merge"
   ]
  },
  {
   "cell_type": "code",
   "execution_count": 104,
   "id": "f0f0c8f7",
   "metadata": {},
   "outputs": [
    {
     "data": {
      "text/html": [
       "<div>\n",
       "<style scoped>\n",
       "    .dataframe tbody tr th:only-of-type {\n",
       "        vertical-align: middle;\n",
       "    }\n",
       "\n",
       "    .dataframe tbody tr th {\n",
       "        vertical-align: top;\n",
       "    }\n",
       "\n",
       "    .dataframe thead th {\n",
       "        text-align: right;\n",
       "    }\n",
       "</style>\n",
       "<table border=\"1\" class=\"dataframe\">\n",
       "  <thead>\n",
       "    <tr style=\"text-align: right;\">\n",
       "      <th></th>\n",
       "      <th>Video Id</th>\n",
       "      <th>Title</th>\n",
       "      <th>Description</th>\n",
       "      <th>Category</th>\n",
       "    </tr>\n",
       "  </thead>\n",
       "  <tbody>\n",
       "    <tr>\n",
       "      <th>0</th>\n",
       "      <td>Qmi-Xwq-MEc</td>\n",
       "      <td>Traveling to the Happiest Country in the World!!</td>\n",
       "      <td>BLACK FRIDAY DROP Out Now*: http://seek-discom...</td>\n",
       "      <td>travel</td>\n",
       "    </tr>\n",
       "    <tr>\n",
       "      <th>1</th>\n",
       "      <td>aiTXpCepMwY</td>\n",
       "      <td>TRAVELING TO COSTA RICA: vlog 1 (pack w me, fl...</td>\n",
       "      <td>hi guys!! this is like the first time i've vlo...</td>\n",
       "      <td>travel</td>\n",
       "    </tr>\n",
       "    <tr>\n",
       "      <th>2</th>\n",
       "      <td>sr284c-q8oY</td>\n",
       "      <td>My Solo Trip to ALASKA | Cruising From Vancouv...</td>\n",
       "      <td>I spent 11 days cruising up the coast of Alask...</td>\n",
       "      <td>travel</td>\n",
       "    </tr>\n",
       "    <tr>\n",
       "      <th>3</th>\n",
       "      <td>USGN-aTzlG4</td>\n",
       "      <td>TRAVEL DAY VLOG: Airport Essentials, What&amp;#39;...</td>\n",
       "      <td>Follow along a travel day in my life!! LINKS: ...</td>\n",
       "      <td>travel</td>\n",
       "    </tr>\n",
       "    <tr>\n",
       "      <th>4</th>\n",
       "      <td>W4_Qyux4JRQ</td>\n",
       "      <td>28 TOP TRAVEL VLOGGER channels to follow!</td>\n",
       "      <td>My list of some of the BEST travel youtube cha...</td>\n",
       "      <td>travel</td>\n",
       "    </tr>\n",
       "  </tbody>\n",
       "</table>\n",
       "</div>"
      ],
      "text/plain": [
       "      Video Id                                              Title  \\\n",
       "0  Qmi-Xwq-MEc   Traveling to the Happiest Country in the World!!   \n",
       "1  aiTXpCepMwY  TRAVELING TO COSTA RICA: vlog 1 (pack w me, fl...   \n",
       "2  sr284c-q8oY  My Solo Trip to ALASKA | Cruising From Vancouv...   \n",
       "3  USGN-aTzlG4  TRAVEL DAY VLOG: Airport Essentials, What&#39;...   \n",
       "4  W4_Qyux4JRQ          28 TOP TRAVEL VLOGGER channels to follow!   \n",
       "\n",
       "                                         Description Category  \n",
       "0  BLACK FRIDAY DROP Out Now*: http://seek-discom...   travel  \n",
       "1  hi guys!! this is like the first time i've vlo...   travel  \n",
       "2  I spent 11 days cruising up the coast of Alask...   travel  \n",
       "3  Follow along a travel day in my life!! LINKS: ...   travel  \n",
       "4  My list of some of the BEST travel youtube cha...   travel  "
      ]
     },
     "execution_count": 104,
     "metadata": {},
     "output_type": "execute_result"
    }
   ],
   "source": [
    "# Import Data\n",
    "data = pd.read_csv('Collected_data_raw.csv')\n",
    "data2 = pd.read_csv('Collected_data_raw2.csv')\n",
    "data3 = pd.read_csv('Collected_data_raw3.csv')\n",
    "data = data.iloc[:, 1:]     # Remove extra un-named column\n",
    "data2 = data2.iloc[:, 1:]     # Remove extra un-named column\n",
    "data3 = data3.iloc[:, 1:]     # Remove extra un-named column\n",
    "data.head()"
   ]
  },
  {
   "cell_type": "code",
   "execution_count": 105,
   "id": "1ab60a0f",
   "metadata": {},
   "outputs": [
    {
     "data": {
      "text/plain": [
       "(3745, 4)"
      ]
     },
     "execution_count": 105,
     "metadata": {},
     "output_type": "execute_result"
    }
   ],
   "source": [
    "data.shape"
   ]
  },
  {
   "cell_type": "code",
   "execution_count": 106,
   "id": "717abcf8",
   "metadata": {},
   "outputs": [
    {
     "data": {
      "text/html": [
       "<div>\n",
       "<style scoped>\n",
       "    .dataframe tbody tr th:only-of-type {\n",
       "        vertical-align: middle;\n",
       "    }\n",
       "\n",
       "    .dataframe tbody tr th {\n",
       "        vertical-align: top;\n",
       "    }\n",
       "\n",
       "    .dataframe thead th {\n",
       "        text-align: right;\n",
       "    }\n",
       "</style>\n",
       "<table border=\"1\" class=\"dataframe\">\n",
       "  <thead>\n",
       "    <tr style=\"text-align: right;\">\n",
       "      <th></th>\n",
       "      <th>Video Id</th>\n",
       "      <th>Title</th>\n",
       "      <th>Description</th>\n",
       "      <th>Category</th>\n",
       "    </tr>\n",
       "  </thead>\n",
       "  <tbody>\n",
       "    <tr>\n",
       "      <th>0</th>\n",
       "      <td>7lvXbfNBIQg</td>\n",
       "      <td>25 Most Beautiful Destinations in Europe - Tra...</td>\n",
       "      <td>Check out all the places seen in this video: h...</td>\n",
       "      <td>travel</td>\n",
       "    </tr>\n",
       "    <tr>\n",
       "      <th>1</th>\n",
       "      <td>NUDBwBJeKvY</td>\n",
       "      <td>25 Most Beautiful Destinations in America - Tr...</td>\n",
       "      <td>Check out all the places seen in this video: h...</td>\n",
       "      <td>travel</td>\n",
       "    </tr>\n",
       "    <tr>\n",
       "      <th>2</th>\n",
       "      <td>ypsQuQnoZLY</td>\n",
       "      <td>khai dreams - Travels ft. Atwood</td>\n",
       "      <td>Have a nice Day:) ○ Open Description ○ -------...</td>\n",
       "      <td>travel</td>\n",
       "    </tr>\n",
       "    <tr>\n",
       "      <th>3</th>\n",
       "      <td>4FPBeVTzKDE</td>\n",
       "      <td>Airbnb CEO Says There Will Be a New Golden Age...</td>\n",
       "      <td>Sep.21 -- Airbnb CEO Brian Chesky shares his t...</td>\n",
       "      <td>travel</td>\n",
       "    </tr>\n",
       "    <tr>\n",
       "      <th>4</th>\n",
       "      <td>r2jnBMtF2xU</td>\n",
       "      <td>Travels - Khai Dreams</td>\n",
       "      <td>NaN</td>\n",
       "      <td>travel</td>\n",
       "    </tr>\n",
       "  </tbody>\n",
       "</table>\n",
       "</div>"
      ],
      "text/plain": [
       "      Video Id                                              Title  \\\n",
       "0  7lvXbfNBIQg  25 Most Beautiful Destinations in Europe - Tra...   \n",
       "1  NUDBwBJeKvY  25 Most Beautiful Destinations in America - Tr...   \n",
       "2  ypsQuQnoZLY                   khai dreams - Travels ft. Atwood   \n",
       "3  4FPBeVTzKDE  Airbnb CEO Says There Will Be a New Golden Age...   \n",
       "4  r2jnBMtF2xU                              Travels - Khai Dreams   \n",
       "\n",
       "                                         Description Category  \n",
       "0  Check out all the places seen in this video: h...   travel  \n",
       "1  Check out all the places seen in this video: h...   travel  \n",
       "2  Have a nice Day:) ○ Open Description ○ -------...   travel  \n",
       "3  Sep.21 -- Airbnb CEO Brian Chesky shares his t...   travel  \n",
       "4                                                NaN   travel  "
      ]
     },
     "execution_count": 106,
     "metadata": {},
     "output_type": "execute_result"
    }
   ],
   "source": [
    "data2.head()"
   ]
  },
  {
   "cell_type": "code",
   "execution_count": 107,
   "id": "7de81f73",
   "metadata": {},
   "outputs": [
    {
     "data": {
      "text/plain": [
       "(3693, 4)"
      ]
     },
     "execution_count": 107,
     "metadata": {},
     "output_type": "execute_result"
    }
   ],
   "source": [
    "data2.shape"
   ]
  },
  {
   "cell_type": "code",
   "execution_count": 108,
   "id": "b13dfd33",
   "metadata": {},
   "outputs": [
    {
     "data": {
      "text/html": [
       "<div>\n",
       "<style scoped>\n",
       "    .dataframe tbody tr th:only-of-type {\n",
       "        vertical-align: middle;\n",
       "    }\n",
       "\n",
       "    .dataframe tbody tr th {\n",
       "        vertical-align: top;\n",
       "    }\n",
       "\n",
       "    .dataframe thead th {\n",
       "        text-align: right;\n",
       "    }\n",
       "</style>\n",
       "<table border=\"1\" class=\"dataframe\">\n",
       "  <thead>\n",
       "    <tr style=\"text-align: right;\">\n",
       "      <th></th>\n",
       "      <th>Video Id</th>\n",
       "      <th>Title</th>\n",
       "      <th>Description</th>\n",
       "      <th>Category</th>\n",
       "    </tr>\n",
       "  </thead>\n",
       "  <tbody>\n",
       "    <tr>\n",
       "      <th>0</th>\n",
       "      <td>AcI7gdTEIOE</td>\n",
       "      <td>MOST BEAUTIFUL TRAVEL DESTINATIONS AROUND THE ...</td>\n",
       "      <td>Today we share the most beautiful travel desti...</td>\n",
       "      <td>travel</td>\n",
       "    </tr>\n",
       "    <tr>\n",
       "      <th>1</th>\n",
       "      <td>huTUpPE9J4M</td>\n",
       "      <td>Oregon Coast Road Trip Vacation Travel Guide |...</td>\n",
       "      <td>The Oregon Coast – Discover dynamic shorelines...</td>\n",
       "      <td>travel</td>\n",
       "    </tr>\n",
       "    <tr>\n",
       "      <th>2</th>\n",
       "      <td>nl5d-m6oxcY</td>\n",
       "      <td>Travel Iceland - Amazing scenery and best plac...</td>\n",
       "      <td>Travel Iceland - amazing scenery and best plac...</td>\n",
       "      <td>travel</td>\n",
       "    </tr>\n",
       "    <tr>\n",
       "      <th>3</th>\n",
       "      <td>WwtRH6mgHks</td>\n",
       "      <td>Arches National Park Vacation Travel Guide | E...</td>\n",
       "      <td>Arches National Park – the natural rock format...</td>\n",
       "      <td>travel</td>\n",
       "    </tr>\n",
       "    <tr>\n",
       "      <th>4</th>\n",
       "      <td>m1ewbghHOP0</td>\n",
       "      <td>Lake Tahoe Vacation Travel Guide | Expedia</td>\n",
       "      <td>Lake Tahoe – the USA's largest alpine lake, an...</td>\n",
       "      <td>travel</td>\n",
       "    </tr>\n",
       "  </tbody>\n",
       "</table>\n",
       "</div>"
      ],
      "text/plain": [
       "      Video Id                                              Title  \\\n",
       "0  AcI7gdTEIOE  MOST BEAUTIFUL TRAVEL DESTINATIONS AROUND THE ...   \n",
       "1  huTUpPE9J4M  Oregon Coast Road Trip Vacation Travel Guide |...   \n",
       "2  nl5d-m6oxcY  Travel Iceland - Amazing scenery and best plac...   \n",
       "3  WwtRH6mgHks  Arches National Park Vacation Travel Guide | E...   \n",
       "4  m1ewbghHOP0         Lake Tahoe Vacation Travel Guide | Expedia   \n",
       "\n",
       "                                         Description Category  \n",
       "0  Today we share the most beautiful travel desti...   travel  \n",
       "1  The Oregon Coast – Discover dynamic shorelines...   travel  \n",
       "2  Travel Iceland - amazing scenery and best plac...   travel  \n",
       "3  Arches National Park – the natural rock format...   travel  \n",
       "4  Lake Tahoe – the USA's largest alpine lake, an...   travel  "
      ]
     },
     "execution_count": 108,
     "metadata": {},
     "output_type": "execute_result"
    }
   ],
   "source": [
    "data3.head()"
   ]
  },
  {
   "cell_type": "code",
   "execution_count": 109,
   "id": "492b4eee",
   "metadata": {},
   "outputs": [
    {
     "data": {
      "text/plain": [
       "(3791, 4)"
      ]
     },
     "execution_count": 109,
     "metadata": {},
     "output_type": "execute_result"
    }
   ],
   "source": [
    "data3.shape"
   ]
  },
  {
   "cell_type": "code",
   "execution_count": 110,
   "id": "03ae60dc",
   "metadata": {},
   "outputs": [
    {
     "data": {
      "text/plain": [
       "(11229, 4)"
      ]
     },
     "execution_count": 110,
     "metadata": {},
     "output_type": "execute_result"
    }
   ],
   "source": [
    "data_all = pd.concat([data, data2, data3], ignore_index=True)\n",
    "data_all.shape"
   ]
  },
  {
   "cell_type": "code",
   "execution_count": 111,
   "id": "67b0144e",
   "metadata": {},
   "outputs": [
    {
     "data": {
      "text/plain": [
       "(11229, 4)"
      ]
     },
     "execution_count": 111,
     "metadata": {},
     "output_type": "execute_result"
    }
   ],
   "source": [
    "data_all.drop_duplicates(ignore_index= True)\n",
    "data_all.shape"
   ]
  },
  {
   "cell_type": "code",
   "execution_count": 112,
   "id": "a95d6cb1",
   "metadata": {},
   "outputs": [
    {
     "name": "stdout",
     "output_type": "stream",
     "text": [
      "Number of missing values: 687\n"
     ]
    }
   ],
   "source": [
    "num_missing_desc = data_all.isnull().sum()[2]   \n",
    "print('Number of missing values: ' + str(num_missing_desc))"
   ]
  },
  {
   "cell_type": "code",
   "execution_count": 115,
   "id": "c9f4e2fb",
   "metadata": {},
   "outputs": [],
   "source": [
    "data_all = data_all.dropna()"
   ]
  },
  {
   "cell_type": "markdown",
   "id": "6de3f382",
   "metadata": {},
   "source": [
    "# Data Cleaning"
   ]
  },
  {
   "cell_type": "markdown",
   "id": "9005a9fb",
   "metadata": {},
   "source": [
    "We've dropped missing values, now we clean the data further:\n",
    "1. Change to lowercase\n",
    "\n",
    "2. Remove numbers\n",
    "\n",
    "3. Remove Punctuation:  To avoid problems during tokenization\n",
    "\n",
    "4. Remove blank spaces\n",
    "\n",
    "5. Tokenization\n",
    "\n",
    "6. Remove alphabetic tokens\n",
    "\n",
    "7. Remove stopwords\n",
    "\n",
    "8. Word Lemmentization ;Converts similar words to their base meaning\n"
   ]
  },
  {
   "cell_type": "code",
   "execution_count": 116,
   "id": "db372cd6",
   "metadata": {},
   "outputs": [],
   "source": [
    "# Change to lowercase\n",
    "data_all['Title'] = data_all['Title'].map(lambda x: x.lower())\n",
    "data_all['Description'] = data_all['Description'].map(lambda x: x.lower())\n",
    "\n",
    "# Remove numbers\n",
    "data_all['Title'] = data_all['Title'].map(lambda x: re.sub(r'\\d+', '', x))\n",
    "data_all['Description'] = data_all['Description'].map(lambda x: re.sub(r'\\d+', '', x))\n",
    "\n",
    "# Remove Punctuation\n",
    "data_all['Title']  = data_all['Title'].map(lambda x: x.translate(x.maketrans('', '', string.punctuation)))\n",
    "data_all['Description']  = data_all['Description'].map(lambda x: x.translate(x.maketrans('', '', string.punctuation)))\n",
    "\n",
    "# Remove blank spaces\n",
    "data_all['Title'] = data_all['Title'].map(lambda x: x.strip())\n",
    "data_all['Description'] = data_all['Description'].map(lambda x: x.strip())\n",
    "\n",
    "# Tokenize into words\n",
    "data_all['Title'] = data_all['Title'].map(lambda x: word_tokenize(x))\n",
    "data_all['Description'] = data_all['Description'].map(lambda x: word_tokenize(x))\n",
    " \n",
    "# Remove non alphabetic tokens\n",
    "data_all['Title'] = data_all['Title'].map(lambda x: [word for word in x if word.isalpha()])\n",
    "data_all['Description'] = data_all['Description'].map(lambda x: [word for word in x if word.isalpha()])\n",
    "# filter out stop words\n",
    "stop_words = set(stopwords.words('english'))\n",
    "data_all['Title'] = data_all['Title'].map(lambda x: [w for w in x if not w in stop_words])\n",
    "data_all['Description'] = data_all['Description'].map(lambda x: [w for w in x if not w in stop_words])\n",
    "\n",
    "# Word Lemmatization\n",
    "lem = WordNetLemmatizer()\n",
    "data_all['Title'] = data_all['Title'].map(lambda x: [lem.lemmatize(word,\"v\") for word in x])\n",
    "data_all['Description'] = data_all['Description'].map(lambda x: [lem.lemmatize(word,\"v\") for word in x])\n",
    "\n",
    "# Turn lists back to string\n",
    "data_all['Title'] = data_all['Title'].map(lambda x: ' '.join(x))\n",
    "data_all['Description'] = data_all['Description'].map(lambda x: ' '.join(x))"
   ]
  },
  {
   "cell_type": "code",
   "execution_count": 117,
   "id": "645c5569",
   "metadata": {},
   "outputs": [
    {
     "data": {
      "text/html": [
       "<div>\n",
       "<style scoped>\n",
       "    .dataframe tbody tr th:only-of-type {\n",
       "        vertical-align: middle;\n",
       "    }\n",
       "\n",
       "    .dataframe tbody tr th {\n",
       "        vertical-align: top;\n",
       "    }\n",
       "\n",
       "    .dataframe thead th {\n",
       "        text-align: right;\n",
       "    }\n",
       "</style>\n",
       "<table border=\"1\" class=\"dataframe\">\n",
       "  <thead>\n",
       "    <tr style=\"text-align: right;\">\n",
       "      <th></th>\n",
       "      <th>Video Id</th>\n",
       "      <th>Title</th>\n",
       "      <th>Description</th>\n",
       "      <th>Category</th>\n",
       "    </tr>\n",
       "  </thead>\n",
       "  <tbody>\n",
       "    <tr>\n",
       "      <th>0</th>\n",
       "      <td>Qmi-Xwq-MEc</td>\n",
       "      <td>travel happiest country world</td>\n",
       "      <td>black friday drop httpseekdiscomfortcomyestheo...</td>\n",
       "      <td>travel</td>\n",
       "    </tr>\n",
       "    <tr>\n",
       "      <th>1</th>\n",
       "      <td>aiTXpCepMwY</td>\n",
       "      <td>travel costa rica vlog pack w fly first days</td>\n",
       "      <td>hi guy like first time ive vlogged family trip...</td>\n",
       "      <td>travel</td>\n",
       "    </tr>\n",
       "    <tr>\n",
       "      <th>2</th>\n",
       "      <td>sr284c-q8oY</td>\n",
       "      <td>solo trip alaska cruise vancouver anchorage</td>\n",
       "      <td>spend days cruise coast alaska magical blog post</td>\n",
       "      <td>travel</td>\n",
       "    </tr>\n",
       "    <tr>\n",
       "      <th>3</th>\n",
       "      <td>USGN-aTzlG4</td>\n",
       "      <td>travel day vlog airport essentials whats bag a...</td>\n",
       "      <td>follow along travel day life link luggage wwwa...</td>\n",
       "      <td>travel</td>\n",
       "    </tr>\n",
       "    <tr>\n",
       "      <th>4</th>\n",
       "      <td>W4_Qyux4JRQ</td>\n",
       "      <td>top travel vlogger channel follow</td>\n",
       "      <td>list best travel youtube channel currently tra...</td>\n",
       "      <td>travel</td>\n",
       "    </tr>\n",
       "    <tr>\n",
       "      <th>...</th>\n",
       "      <td>...</td>\n",
       "      <td>...</td>\n",
       "      <td>...</td>\n",
       "      <td>...</td>\n",
       "    </tr>\n",
       "    <tr>\n",
       "      <th>11224</th>\n",
       "      <td>Iq9hF2BArhY</td>\n",
       "      <td>level upgrade mattresses</td>\n",
       "      <td>level john show us level rv melt ice cream fre...</td>\n",
       "      <td>DIY</td>\n",
       "    </tr>\n",
       "    <tr>\n",
       "      <th>11225</th>\n",
       "      <td>PcmsZRciu3Y</td>\n",
       "      <td>life hack easy life hack simple life hack tikt...</td>\n",
       "      <td>lifehack easylifehacks simplelifehacks tiktokl...</td>\n",
       "      <td>DIY</td>\n",
       "    </tr>\n",
       "    <tr>\n",
       "      <th>11226</th>\n",
       "      <td>Vn9kdrvsKPY</td>\n",
       "      <td>anyone help explain shortstools</td>\n",
       "      <td>short trendingsoapcubes asmrsoapcarving soapca...</td>\n",
       "      <td>DIY</td>\n",
       "    </tr>\n",
       "    <tr>\n",
       "      <th>11227</th>\n",
       "      <td>62MqVN8xvFU</td>\n",
       "      <td>know shortsmachine</td>\n",
       "      <td>short trendingsoapcubes asmrsoapcarving soapca...</td>\n",
       "      <td>DIY</td>\n",
       "    </tr>\n",
       "    <tr>\n",
       "      <th>11228</th>\n",
       "      <td>nbKR5LWAlAs</td>\n",
       "      <td>know shortsmachine</td>\n",
       "      <td>short trendingsoapcubes asmrsoapcarving soapca...</td>\n",
       "      <td>DIY</td>\n",
       "    </tr>\n",
       "  </tbody>\n",
       "</table>\n",
       "<p>10542 rows × 4 columns</p>\n",
       "</div>"
      ],
      "text/plain": [
       "          Video Id                                              Title  \\\n",
       "0      Qmi-Xwq-MEc                      travel happiest country world   \n",
       "1      aiTXpCepMwY       travel costa rica vlog pack w fly first days   \n",
       "2      sr284c-q8oY        solo trip alaska cruise vancouver anchorage   \n",
       "3      USGN-aTzlG4  travel day vlog airport essentials whats bag a...   \n",
       "4      W4_Qyux4JRQ                  top travel vlogger channel follow   \n",
       "...            ...                                                ...   \n",
       "11224  Iq9hF2BArhY                           level upgrade mattresses   \n",
       "11225  PcmsZRciu3Y  life hack easy life hack simple life hack tikt...   \n",
       "11226  Vn9kdrvsKPY                    anyone help explain shortstools   \n",
       "11227  62MqVN8xvFU                                 know shortsmachine   \n",
       "11228  nbKR5LWAlAs                                 know shortsmachine   \n",
       "\n",
       "                                             Description Category  \n",
       "0      black friday drop httpseekdiscomfortcomyestheo...   travel  \n",
       "1      hi guy like first time ive vlogged family trip...   travel  \n",
       "2       spend days cruise coast alaska magical blog post   travel  \n",
       "3      follow along travel day life link luggage wwwa...   travel  \n",
       "4      list best travel youtube channel currently tra...   travel  \n",
       "...                                                  ...      ...  \n",
       "11224  level john show us level rv melt ice cream fre...      DIY  \n",
       "11225  lifehack easylifehacks simplelifehacks tiktokl...      DIY  \n",
       "11226  short trendingsoapcubes asmrsoapcarving soapca...      DIY  \n",
       "11227  short trendingsoapcubes asmrsoapcarving soapca...      DIY  \n",
       "11228  short trendingsoapcubes asmrsoapcarving soapca...      DIY  \n",
       "\n",
       "[10542 rows x 4 columns]"
      ]
     },
     "execution_count": 117,
     "metadata": {},
     "output_type": "execute_result"
    }
   ],
   "source": [
    "data_all"
   ]
  },
  {
   "cell_type": "markdown",
   "id": "c773724c",
   "metadata": {},
   "source": [
    "## Label Encoding"
   ]
  },
  {
   "cell_type": "markdown",
   "id": "fcbdc5c3",
   "metadata": {},
   "source": [
    "We can't feed our text data to ML models.\n",
    "We need to convert them into numerical based features"
   ]
  },
  {
   "cell_type": "code",
   "execution_count": 118,
   "id": "748b3ab8",
   "metadata": {},
   "outputs": [
    {
     "data": {
      "text/html": [
       "<div>\n",
       "<style scoped>\n",
       "    .dataframe tbody tr th:only-of-type {\n",
       "        vertical-align: middle;\n",
       "    }\n",
       "\n",
       "    .dataframe tbody tr th {\n",
       "        vertical-align: top;\n",
       "    }\n",
       "\n",
       "    .dataframe thead th {\n",
       "        text-align: right;\n",
       "    }\n",
       "</style>\n",
       "<table border=\"1\" class=\"dataframe\">\n",
       "  <thead>\n",
       "    <tr style=\"text-align: right;\">\n",
       "      <th></th>\n",
       "      <th>Video Id</th>\n",
       "      <th>Title</th>\n",
       "      <th>Description</th>\n",
       "      <th>Category</th>\n",
       "    </tr>\n",
       "  </thead>\n",
       "  <tbody>\n",
       "    <tr>\n",
       "      <th>0</th>\n",
       "      <td>Qmi-Xwq-MEc</td>\n",
       "      <td>travel happiest country world</td>\n",
       "      <td>black friday drop httpseekdiscomfortcomyestheo...</td>\n",
       "      <td>6</td>\n",
       "    </tr>\n",
       "    <tr>\n",
       "      <th>1</th>\n",
       "      <td>aiTXpCepMwY</td>\n",
       "      <td>travel costa rica vlog pack w fly first days</td>\n",
       "      <td>hi guy like first time ive vlogged family trip...</td>\n",
       "      <td>6</td>\n",
       "    </tr>\n",
       "    <tr>\n",
       "      <th>2</th>\n",
       "      <td>sr284c-q8oY</td>\n",
       "      <td>solo trip alaska cruise vancouver anchorage</td>\n",
       "      <td>spend days cruise coast alaska magical blog post</td>\n",
       "      <td>6</td>\n",
       "    </tr>\n",
       "    <tr>\n",
       "      <th>3</th>\n",
       "      <td>USGN-aTzlG4</td>\n",
       "      <td>travel day vlog airport essentials whats bag a...</td>\n",
       "      <td>follow along travel day life link luggage wwwa...</td>\n",
       "      <td>6</td>\n",
       "    </tr>\n",
       "    <tr>\n",
       "      <th>4</th>\n",
       "      <td>W4_Qyux4JRQ</td>\n",
       "      <td>top travel vlogger channel follow</td>\n",
       "      <td>list best travel youtube channel currently tra...</td>\n",
       "      <td>6</td>\n",
       "    </tr>\n",
       "  </tbody>\n",
       "</table>\n",
       "</div>"
      ],
      "text/plain": [
       "      Video Id                                              Title  \\\n",
       "0  Qmi-Xwq-MEc                      travel happiest country world   \n",
       "1  aiTXpCepMwY       travel costa rica vlog pack w fly first days   \n",
       "2  sr284c-q8oY        solo trip alaska cruise vancouver anchorage   \n",
       "3  USGN-aTzlG4  travel day vlog airport essentials whats bag a...   \n",
       "4  W4_Qyux4JRQ                  top travel vlogger channel follow   \n",
       "\n",
       "                                         Description  Category  \n",
       "0  black friday drop httpseekdiscomfortcomyestheo...         6  \n",
       "1  hi guy like first time ive vlogged family trip...         6  \n",
       "2   spend days cruise coast alaska magical blog post         6  \n",
       "3  follow along travel day life link luggage wwwa...         6  \n",
       "4  list best travel youtube channel currently tra...         6  "
      ]
     },
     "execution_count": 118,
     "metadata": {},
     "output_type": "execute_result"
    }
   ],
   "source": [
    "# Encode classes\n",
    "from sklearn.preprocessing import LabelEncoder\n",
    "le = LabelEncoder()\n",
    "le.fit(data_all.Category)\n",
    "data_all.Category = le.transform(data_all.Category)\n",
    "data_all.head(5)"
   ]
  },
  {
   "cell_type": "markdown",
   "id": "c5b312a8",
   "metadata": {},
   "source": [
    "## Plot Label distribution"
   ]
  },
  {
   "cell_type": "markdown",
   "id": "d77ad06a",
   "metadata": {},
   "source": [
    "To check data is balanced"
   ]
  },
  {
   "cell_type": "code",
   "execution_count": 120,
   "id": "7b94572b",
   "metadata": {},
   "outputs": [
    {
     "data": {
      "text/plain": [
       "<AxesSubplot:title={'center':'Number of samples for each class'}>"
      ]
     },
     "execution_count": 120,
     "metadata": {},
     "output_type": "execute_result"
    },
    {
     "data": {
      "image/png": "[encoded data removed]",
      "text/plain": [
       "<Figure size 432x288 with 1 Axes>"
      ]
     },
     "metadata": {
      "needs_background": "light"
     },
     "output_type": "display_data"
    }
   ],
   "source": [
    "data_all['Category'].value_counts().sort_values(ascending=False).plot(kind='bar', y='Number of Samples', \n",
    "                                                                title='Number of samples for each class')"
   ]
  },
  {
   "cell_type": "markdown",
   "id": "18aa8d0f",
   "metadata": {},
   "source": [
    "## TF-IDF feature extraction"
   ]
  },
  {
   "cell_type": "markdown",
   "id": "35509810",
   "metadata": {},
   "source": [
    "Check if the features extracted using TF-IDF vectorization makes sense\n",
    "\n",
    ": find the most correlated unigrams and bigrams for each class using both the Titles and the Description."
   ]
  },
  {
   "cell_type": "code",
   "execution_count": 119,
   "id": "e3d5a03b",
   "metadata": {},
   "outputs": [
    {
     "name": "stdout",
     "output_type": "stream",
     "text": [
      "Title Features Shape: (10542, 3936)\n",
      "Description Features Shape: (10542, 5586)\n"
     ]
    }
   ],
   "source": [
    "# TF-IDF\n",
    "from sklearn.feature_extraction.text import TfidfVectorizer\n",
    "tfidf_title = TfidfVectorizer(sublinear_tf=True, min_df=5, norm='l2', encoding='latin-1', ngram_range=(1, 2), stop_words='english')\n",
    "tfidf_desc = TfidfVectorizer(sublinear_tf=True, min_df=5, norm='l2', encoding='latin-1', ngram_range=(1, 2), stop_words='english')\n",
    "labels = data_all.Category\n",
    "features_title = tfidf_title.fit_transform(data_all.Title).toarray()\n",
    "features_description = tfidf_desc.fit_transform(data_all.Description).toarray()\n",
    "print('Title Features Shape: ' + str(features_title.shape))\n",
    "print('Description Features Shape: ' + str(features_description.shape))"
   ]
  },
  {
   "cell_type": "code",
   "execution_count": 121,
   "id": "340a44e8",
   "metadata": {},
   "outputs": [
    {
     "name": "stdout",
     "output_type": "stream",
     "text": [
      "# 'Beauty':\n",
      "Most correlated unigrams:\n",
      "------------------------------\n",
      ". secrets\n",
      ". tip\n",
      ". makeup\n",
      ". ready\n",
      ". beauty\n",
      "Most correlated bigrams:\n",
      "------------------------------\n",
      ". skin care\n",
      ". beauty ready\n",
      ". secrets vogue\n",
      ". beauty secrets\n",
      ". beauty tip\n",
      "\n",
      "\n",
      "# 'Comedy':\n",
      "Most correlated unigrams:\n",
      "------------------------------\n",
      ". episode\n",
      ". microfilm\n",
      ". კომედი\n",
      ". skit\n",
      ". comedy\n",
      "Most correlated bigrams:\n",
      "------------------------------\n",
      ". stand comedy\n",
      ". unique microfilm\n",
      ". funny video\n",
      ". comedy video\n",
      ". comedy skit\n",
      "\n",
      "\n",
      "# 'DIY':\n",
      "Most correlated unigrams:\n",
      "------------------------------\n",
      ". make\n",
      ". decor\n",
      ". craft\n",
      ". ideas\n",
      ". diy\n",
      "Most correlated bigrams:\n",
      "------------------------------\n",
      ". diy craft\n",
      ". decor ideas\n",
      ". hack diy\n",
      ". easy diy\n",
      ". diy ideas\n",
      "\n",
      "\n",
      "# 'fashion':\n",
      "Most correlated unigrams:\n",
      "------------------------------\n",
      ". trend\n",
      ". best\n",
      ". style\n",
      ". items\n",
      ". fashion\n",
      "Most correlated bigrams:\n",
      "------------------------------\n",
      ". fashion week\n",
      ". fashion channel\n",
      ". best fashion\n",
      ". fashion trend\n",
      ". fashion items\n",
      "\n",
      "\n",
      "# 'food':\n",
      "Most correlated unigrams:\n",
      "------------------------------\n",
      ". recipe\n",
      ". amaze\n",
      ". delicious\n",
      ". cook\n",
      ". food\n",
      "Most correlated bigrams:\n",
      "------------------------------\n",
      ". food hack\n",
      ". street food\n",
      ". food cook\n",
      ". delicious food\n",
      ". amaze food\n",
      "\n",
      "\n",
      "# 'gaming':\n",
      "Most correlated unigrams:\n",
      "------------------------------\n",
      ". garena\n",
      ". free\n",
      ". gameplay\n",
      ". stream\n",
      ". game\n",
      "Most correlated bigrams:\n",
      "------------------------------\n",
      ". stream gameplay\n",
      ". funny stream\n",
      ". game video\n",
      ". garena free\n",
      ". live stream\n",
      "\n",
      "\n",
      "# 'travel':\n",
      "Most correlated unigrams:\n",
      "------------------------------\n",
      ". mantra\n",
      ". trip\n",
      ". travellers\n",
      ". vlog\n",
      ". travel\n",
      "Most correlated bigrams:\n",
      "------------------------------\n",
      ". road trip\n",
      ". travel time\n",
      ". travel mantra\n",
      ". travel vlog\n",
      ". time travel\n",
      "\n",
      "\n"
     ]
    }
   ],
   "source": [
    "# Best 5 keywords for each class using Title Feaures\n",
    "from sklearn.feature_selection import chi2\n",
    "import numpy as np\n",
    "N = 5\n",
    "for current_class in list(le.classes_):\n",
    "    current_class_id = le.transform([current_class])[0]\n",
    "    features_chi2 = chi2(features_title, labels == current_class_id)\n",
    "    indices = np.argsort(features_chi2[0])\n",
    "    feature_names = np.array(tfidf_title.get_feature_names())[indices]\n",
    "    unigrams = [v for v in feature_names if len(v.split(' ')) == 1]\n",
    "    bigrams = [v for v in feature_names if len(v.split(' ')) == 2]\n",
    "    print(\"# '{}':\".format(current_class))\n",
    "    print(\"Most correlated unigrams:\")\n",
    "    print('-' *30)\n",
    "    print('. {}'.format('\\n. '.join(unigrams[-N:])))\n",
    "    print(\"Most correlated bigrams:\")\n",
    "    print('-' *30)\n",
    "    print('. {}'.format('\\n. '.join(bigrams[-N:])))\n",
    "    print(\"\\n\")"
   ]
  },
  {
   "cell_type": "code",
   "execution_count": 122,
   "id": "f8886e56",
   "metadata": {},
   "outputs": [
    {
     "name": "stdout",
     "output_type": "stream",
     "text": [
      "# 'Beauty':\n",
      "Most correlated unigrams:\n",
      "------------------------------\n",
      ". routine\n",
      ". tip\n",
      ". ready\n",
      ". makeup\n",
      ". beauty\n",
      "Most correlated bigrams:\n",
      "------------------------------\n",
      ". skin care\n",
      ". makeup look\n",
      ". beauty secrets\n",
      ". beauty routine\n",
      ". beauty tip\n",
      "\n",
      "\n",
      "# 'Comedy':\n",
      "Most correlated unigrams:\n",
      "------------------------------\n",
      ". comedyskit\n",
      ". microfilm\n",
      ". funny\n",
      ". skit\n",
      ". comedy\n",
      "Most correlated bigrams:\n",
      "------------------------------\n",
      ". comedy video\n",
      ". unique microfilm\n",
      ". funny videos\n",
      ". comedy videos\n",
      ". comedy skit\n",
      "\n",
      "\n",
      "# 'DIY':\n",
      "Most correlated unigrams:\n",
      "------------------------------\n",
      ". project\n",
      ". easy\n",
      ". make\n",
      ". ideas\n",
      ". diy\n",
      "Most correlated bigrams:\n",
      "------------------------------\n",
      ". life hack\n",
      ". diy project\n",
      ". easy diy\n",
      ". make diy\n",
      ". diy ideas\n",
      "\n",
      "\n",
      "# 'fashion':\n",
      "Most correlated unigrams:\n",
      "------------------------------\n",
      ". dress\n",
      ". outfit\n",
      ". style\n",
      ". items\n",
      ". fashion\n",
      "Most correlated bigrams:\n",
      "------------------------------\n",
      ". channel visit\n",
      ". visit subscribe\n",
      ". subscribe fashion\n",
      ". fashion channel\n",
      ". fashion items\n",
      "\n",
      "\n",
      "# 'food':\n",
      "Most correlated unigrams:\n",
      "------------------------------\n",
      ". eat\n",
      ". recipe\n",
      ". delicious\n",
      ". cook\n",
      ". food\n",
      "Most correlated bigrams:\n",
      "------------------------------\n",
      ". food zone\n",
      ". food cook\n",
      ". street food\n",
      ". delicious food\n",
      ". amaze food\n",
      "\n",
      "\n",
      "# 'gaming':\n",
      "Most correlated unigrams:\n",
      "------------------------------\n",
      ". free\n",
      ". stream\n",
      ". garena\n",
      ". ringtone\n",
      ". game\n",
      "Most correlated bigrams:\n",
      "------------------------------\n",
      ". folks watch\n",
      ". watch play\n",
      ". sms ringtone\n",
      ". message ringtone\n",
      ". garena free\n",
      "\n",
      "\n",
      "# 'travel':\n",
      "Most correlated unigrams:\n",
      "------------------------------\n",
      ". mantra\n",
      ". syria\n",
      ". travellers\n",
      ". trip\n",
      ". travel\n",
      "Most correlated bigrams:\n",
      "------------------------------\n",
      ". httpbitlytdusatrip bhai\n",
      ". bhai bhabis\n",
      ". travel vlog\n",
      ". road trip\n",
      ". travel mantra\n",
      "\n",
      "\n"
     ]
    }
   ],
   "source": [
    "# Best 5 keywords for each class using Description Features\n",
    "from sklearn.feature_selection import chi2\n",
    "import numpy as np\n",
    "N = 5\n",
    "for current_class in list(le.classes_):\n",
    "    current_class_id = le.transform([current_class])[0]\n",
    "    features_chi2 = chi2(features_description, labels == current_class_id)\n",
    "    indices = np.argsort(features_chi2[0])\n",
    "    feature_names = np.array(tfidf_desc.get_feature_names())[indices]\n",
    "    unigrams = [v for v in feature_names if len(v.split(' ')) == 1]\n",
    "    bigrams = [v for v in feature_names if len(v.split(' ')) == 2]\n",
    "    print(\"# '{}':\".format(current_class))\n",
    "    print(\"Most correlated unigrams:\")\n",
    "    print('-' *30)\n",
    "    print('. {}'.format('\\n. '.join(unigrams[-N:])))\n",
    "    print(\"Most correlated bigrams:\")\n",
    "    print('-' *30)\n",
    "    print('. {}'.format('\\n. '.join(bigrams[-N:])))\n",
    "    print(\"\\n\")"
   ]
  },
  {
   "cell_type": "markdown",
   "id": "eb9dbb7d",
   "metadata": {},
   "source": [
    "# Model and Train"
   ]
  },
  {
   "cell_type": "markdown",
   "id": "e9e54cd9",
   "metadata": {},
   "source": [
    "### 4 Models to analyse: \n",
    "Naive Bayes Classifier\n",
    "\n",
    "Support Vector Machine\n",
    "\n",
    "Adaboost Classifier\n",
    "\n",
    "LSTM"
   ]
  },
  {
   "cell_type": "code",
   "execution_count": 123,
   "id": "10880acd",
   "metadata": {},
   "outputs": [],
   "source": [
    "from sklearn.model_selection import train_test_split\n",
    "from sklearn.naive_bayes import MultinomialNB\n",
    "from sklearn import linear_model\n",
    "from sklearn.ensemble import AdaBoostClassifier\n",
    "\n",
    "X_train, X_test, y_train, y_test = train_test_split(data_all.iloc[:, 1:3], data_all['Category'], random_state = 3)\n",
    "X_train_title_features = tfidf_title.transform(X_train['Title']).toarray()\n",
    "X_train_desc_features = tfidf_desc.transform(X_train['Description']).toarray()\n",
    "features = np.concatenate([X_train_title_features, X_train_desc_features], axis=1)"
   ]
  },
  {
   "cell_type": "code",
   "execution_count": 124,
   "id": "ac3e0682",
   "metadata": {},
   "outputs": [
    {
     "data": {
      "text/html": [
       "<div>\n",
       "<style scoped>\n",
       "    .dataframe tbody tr th:only-of-type {\n",
       "        vertical-align: middle;\n",
       "    }\n",
       "\n",
       "    .dataframe tbody tr th {\n",
       "        vertical-align: top;\n",
       "    }\n",
       "\n",
       "    .dataframe thead th {\n",
       "        text-align: right;\n",
       "    }\n",
       "</style>\n",
       "<table border=\"1\" class=\"dataframe\">\n",
       "  <thead>\n",
       "    <tr style=\"text-align: right;\">\n",
       "      <th></th>\n",
       "      <th>Title</th>\n",
       "      <th>Description</th>\n",
       "    </tr>\n",
       "  </thead>\n",
       "  <tbody>\n",
       "    <tr>\n",
       "      <th>5343</th>\n",
       "      <td>beauty tip makeup hack look classy</td>\n",
       "      <td>look elegant classy use make create effect tip...</td>\n",
       "    </tr>\n",
       "    <tr>\n",
       "      <th>5330</th>\n",
       "      <td>rosalías guide pink eyeshadow slickedback pony...</td>\n",
       "      <td>rosalía reveal beauty secrets prettyinpink mak...</td>\n",
       "    </tr>\n",
       "    <tr>\n",
       "      <th>861</th>\n",
       "      <td>ay comedy skit funke akindele quotgovernors da...</td>\n",
       "      <td>need watch inborn humorous abilities ay popula...</td>\n",
       "    </tr>\n",
       "    <tr>\n",
       "      <th>9990</th>\n",
       "      <td>lokesh gamers live stream free fire funny vide...</td>\n",
       "      <td>freefire freefirevideo freefiretiktokffshortfr...</td>\n",
       "    </tr>\n",
       "    <tr>\n",
       "      <th>4434</th>\n",
       "      <td>კომედი რა სად როდის</td>\n",
       "      <td>მოიწონეთ გააზიარეთ და გამოიწერეთ კომედი ჯგუფის...</td>\n",
       "    </tr>\n",
       "  </tbody>\n",
       "</table>\n",
       "</div>"
      ],
      "text/plain": [
       "                                                  Title  \\\n",
       "5343                 beauty tip makeup hack look classy   \n",
       "5330  rosalías guide pink eyeshadow slickedback pony...   \n",
       "861   ay comedy skit funke akindele quotgovernors da...   \n",
       "9990  lokesh gamers live stream free fire funny vide...   \n",
       "4434                                კომედი რა სად როდის   \n",
       "\n",
       "                                            Description  \n",
       "5343  look elegant classy use make create effect tip...  \n",
       "5330  rosalía reveal beauty secrets prettyinpink mak...  \n",
       "861   need watch inborn humorous abilities ay popula...  \n",
       "9990  freefire freefirevideo freefiretiktokffshortfr...  \n",
       "4434  მოიწონეთ გააზიარეთ და გამოიწერეთ კომედი ჯგუფის...  "
      ]
     },
     "execution_count": 124,
     "metadata": {},
     "output_type": "execute_result"
    }
   ],
   "source": [
    "X_train.head()"
   ]
  },
  {
   "cell_type": "code",
   "execution_count": 125,
   "id": "4519d7fb",
   "metadata": {},
   "outputs": [
    {
     "data": {
      "text/plain": [
       "5343    0\n",
       "5330    0\n",
       "861     1\n",
       "9990    5\n",
       "4434    1\n",
       "Name: Category, dtype: int64"
      ]
     },
     "execution_count": 125,
     "metadata": {},
     "output_type": "execute_result"
    }
   ],
   "source": [
    "y_train.head()"
   ]
  },
  {
   "cell_type": "code",
   "execution_count": 126,
   "id": "fd43b9ab",
   "metadata": {},
   "outputs": [],
   "source": [
    "# Naive Bayes\n",
    "nb = MultinomialNB().fit(features, y_train)\n",
    "# SVM\n",
    "svm = linear_model.SGDClassifier(loss='modified_huber',max_iter=1000, tol=1e-3).fit(features,y_train)\n",
    "# AdaBoost\n",
    "adaboost = AdaBoostClassifier(n_estimators=40,algorithm=\"SAMME\").fit(features,y_train)"
   ]
  },
  {
   "cell_type": "markdown",
   "id": "ea655d48",
   "metadata": {},
   "source": [
    "# LSTM"
   ]
  },
  {
   "cell_type": "markdown",
   "id": "114f3f1b",
   "metadata": {},
   "source": [
    "Separate pre-processing for LSTM. \n",
    "\n",
    "1. Combine Title and Description for each sample into a single sentence\n",
    "2. Tokenize the combined sentence into padded sequences: Each sentence is converted into a list of tokens, each token is assigned a numerical id and then each sequence is made the same length by padding shorter sequences, and truncating longer sequences.\n",
    "3. One-Hot Encoding the ‘Category’ variable"
   ]
  },
  {
   "cell_type": "code",
   "execution_count": 127,
   "id": "22c4976b",
   "metadata": {
    "scrolled": true
   },
   "outputs": [
    {
     "name": "stdout",
     "output_type": "stream",
     "text": [
      "Found 24028 unique tokens.\n",
      "Shape of data tensor: (10542, 50)\n",
      "Shape of label tensor: (10542, 7)\n"
     ]
    }
   ],
   "source": [
    "from keras.preprocessing.text import Tokenizer\n",
    "from keras.preprocessing.sequence import pad_sequences\n",
    "from keras.models import Sequential\n",
    "from keras.layers import Dense, Embedding, LSTM, SpatialDropout1D\n",
    "from keras.utils.np_utils import to_categorical\n",
    "\n",
    "# The maximum number of words to be used. (most frequent)\n",
    "MAX_NB_WORDS = 20000\n",
    "# Max number of words in each complaint.\n",
    "MAX_SEQUENCE_LENGTH = 50\n",
    "# This is fixed.\n",
    "EMBEDDING_DIM = 100\n",
    "\n",
    "# Combining titles and descriptions into a single sentence\n",
    "titles = data_all['Title'].values\n",
    "descriptions = data_all['Description'].values\n",
    "data_for_lstms = []\n",
    "for i in range(len(titles)):\n",
    "    temp_list = [titles[i], descriptions[i]]\n",
    "    data_for_lstms.append(' '.join(temp_list))\n",
    "\n",
    "tokenizer = Tokenizer(num_words=MAX_NB_WORDS, filters='!\"#$%&()*+,-./:;<=>?@[\\]^_`{|}~', lower=True)\n",
    "tokenizer.fit_on_texts(data_for_lstms)\n",
    "word_index = tokenizer.word_index\n",
    "print('Found %s unique tokens.' % len(word_index))\n",
    "\n",
    "# Convert the data to padded sequences\n",
    "X = tokenizer.texts_to_sequences(data_for_lstms)\n",
    "X = pad_sequences(X, maxlen=MAX_SEQUENCE_LENGTH)\n",
    "print('Shape of data tensor:', X.shape)\n",
    "\n",
    "# One-hot Encode labels\n",
    "Y = pd.get_dummies(data_all['Category']).values\n",
    "print('Shape of label tensor:', Y.shape)\n",
    "\n",
    "# Splitting into training and test set\n",
    "X_train, X_test, Y_train, Y_test = train_test_split(X,Y, random_state = 24)"
   ]
  },
  {
   "cell_type": "code",
   "execution_count": 128,
   "id": "7460be94",
   "metadata": {},
   "outputs": [
    {
     "name": "stdout",
     "output_type": "stream",
     "text": [
      "Model: \"sequential_2\"\n",
      "_________________________________________________________________\n",
      " Layer (type)                Output Shape              Param #   \n",
      "=================================================================\n",
      " embedding_2 (Embedding)     (None, 50, 100)           2000000   \n",
      "                                                                 \n",
      " spatial_dropout1d_2 (Spatia  (None, 50, 100)          0         \n",
      " lDropout1D)                                                     \n",
      "                                                                 \n",
      " lstm_2 (LSTM)               (None, 100)               80400     \n",
      "                                                                 \n",
      " dense_2 (Dense)             (None, 7)                 707       \n",
      "                                                                 \n",
      "=================================================================\n",
      "Total params: 2,081,107\n",
      "Trainable params: 2,081,107\n",
      "Non-trainable params: 0\n",
      "_________________________________________________________________\n",
      "None\n"
     ]
    }
   ],
   "source": [
    "# Define LSTM Model\n",
    "model = Sequential()\n",
    "model.add(Embedding(MAX_NB_WORDS, EMBEDDING_DIM, input_length=X.shape[1]))\n",
    "model.add(SpatialDropout1D(0.2))\n",
    "model.add(LSTM(100, dropout=0.2, recurrent_dropout=0.2))\n",
    "model.add(Dense(7, activation='softmax'))\n",
    "model.compile(loss='categorical_crossentropy', optimizer='adam', metrics=['accuracy'])\n",
    "print(model.summary())"
   ]
  },
  {
   "cell_type": "code",
   "execution_count": 129,
   "id": "29c9ca3a",
   "metadata": {},
   "outputs": [
    {
     "name": "stdout",
     "output_type": "stream",
     "text": [
      "Epoch 1/5\n",
      "112/112 [==============================] - 21s 147ms/step - loss: 1.1908 - accuracy: 0.6066 - val_loss: 0.3192 - val_accuracy: 0.9267\n",
      "Epoch 2/5\n",
      "112/112 [==============================] - 15s 135ms/step - loss: 0.1863 - accuracy: 0.9536 - val_loss: 0.1535 - val_accuracy: 0.9621\n",
      "Epoch 3/5\n",
      "112/112 [==============================] - 15s 135ms/step - loss: 0.0813 - accuracy: 0.9830 - val_loss: 0.1488 - val_accuracy: 0.9633\n",
      "Epoch 4/5\n",
      "112/112 [==============================] - 16s 147ms/step - loss: 0.0555 - accuracy: 0.9889 - val_loss: 0.1525 - val_accuracy: 0.9684\n",
      "Epoch 5/5\n",
      "112/112 [==============================] - 17s 149ms/step - loss: 0.0410 - accuracy: 0.9903 - val_loss: 0.1519 - val_accuracy: 0.9621\n"
     ]
    }
   ],
   "source": [
    "# Training LSTM Model\n",
    "epochs = 5\n",
    "batch_size = 64\n",
    "\n",
    "history = model.fit(np.array(X_train), np.array(Y_train), epochs=epochs, batch_size= batch_size, validation_split=0.1)"
   ]
  },
  {
   "cell_type": "code",
   "execution_count": 130,
   "id": "40e02e24",
   "metadata": {},
   "outputs": [
    {
     "data": {
      "image/png": "[encoded data removed]",
      "text/plain": [
       "<Figure size 432x288 with 1 Axes>"
      ]
     },
     "metadata": {
      "needs_background": "light"
     },
     "output_type": "display_data"
    },
    {
     "data": {
      "image/png": "[encoded data removed]",
      "text/plain": [
       "<Figure size 432x288 with 1 Axes>"
      ]
     },
     "metadata": {
      "needs_background": "light"
     },
     "output_type": "display_data"
    }
   ],
   "source": [
    "import matplotlib.pyplot as plt\n",
    "plt.title('Loss')\n",
    "plt.plot(history.history['loss'], label='train')\n",
    "plt.plot(history.history['val_loss'], label='test')\n",
    "plt.legend()\n",
    "plt.show();\n",
    "\n",
    "plt.title('Accuracy')\n",
    "plt.plot(history.history['accuracy'], label='train')\n",
    "plt.plot(history.history['val_accuracy'], label='test')\n",
    "plt.legend()\n",
    "plt.show();"
   ]
  },
  {
   "cell_type": "code",
   "execution_count": 132,
   "id": "c3bd824d",
   "metadata": {},
   "outputs": [],
   "source": [
    "X_train, X_test, y_train, y_test = train_test_split(data_all.iloc[:, 1:3], data_all['Category'], random_state = 0)\n",
    "X_test_title_features = tfidf_title.transform(X_test['Title']).toarray()\n",
    "X_test_desc_features = tfidf_desc.transform(X_test['Description']).toarray()\n",
    "test_features = np.concatenate([X_test_title_features, X_test_desc_features], axis=1)"
   ]
  },
  {
   "cell_type": "code",
   "execution_count": 134,
   "id": "990ff512",
   "metadata": {},
   "outputs": [
    {
     "name": "stdout",
     "output_type": "stream",
     "text": [
      "              precision    recall  f1-score   support\n",
      "\n",
      "      Beauty       0.98      0.96      0.97       383\n",
      "      Comedy       0.97      0.97      0.97       290\n",
      "         DIY       0.93      0.97      0.95       402\n",
      "     fashion       0.95      0.94      0.95       383\n",
      "        food       0.97      0.97      0.97       406\n",
      "      gaming       0.97      0.93      0.95       367\n",
      "      travel       0.97      0.98      0.97       405\n",
      "\n",
      "    accuracy                           0.96      2636\n",
      "   macro avg       0.96      0.96      0.96      2636\n",
      "weighted avg       0.96      0.96      0.96      2636\n",
      "\n"
     ]
    },
    {
     "data": {
      "image/png": "[encoded data removed]",
      "text/plain": [
       "<Figure size 720x720 with 2 Axes>"
      ]
     },
     "metadata": {
      "needs_background": "light"
     },
     "output_type": "display_data"
    },
    {
     "data": {
      "image/png": "[encoded data removed]",
      "text/plain": [
       "<Figure size 432x288 with 1 Axes>"
      ]
     },
     "metadata": {
      "needs_background": "light"
     },
     "output_type": "display_data"
    }
   ],
   "source": [
    "from sklearn import metrics\n",
    "import matplotlib.pyplot as plt\n",
    "import seaborn as sns\n",
    "from sklearn.metrics import confusion_matrix\n",
    "import scikitplot as skplt\n",
    "\n",
    "X_test_title_features = tfidf_title.transform(X_test['Title']).toarray()\n",
    "X_test_desc_features = tfidf_desc.transform(X_test['Description']).toarray()\n",
    "test_features = np.concatenate([X_test_title_features, X_test_desc_features], axis=1)\n",
    "\n",
    "# Naive Bayes\n",
    "y_pred = nb.predict(test_features)\n",
    "y_probas = nb.predict_proba(test_features)\n",
    "\n",
    "print(metrics.classification_report(y_test, y_pred, \n",
    "                                    target_names=list(le.classes_)))\n",
    "\n",
    "conf_mat = confusion_matrix(y_test, y_pred)\n",
    "fig, ax = plt.subplots(figsize=(10,10))\n",
    "sns.heatmap(conf_mat, annot=True, fmt='d', xticklabels=list(le.classes_), yticklabels=list(le.classes_))\n",
    "plt.ylabel('Actual')\n",
    "plt.xlabel('Predicted')\n",
    "plt.title('Confusion Matrix - Naive Bayes')\n",
    "plt.show()\n",
    "skplt.metrics.plot_precision_recall(y_test, y_probas)\n",
    "plt.title('Precision-Recall Curve - Naive Bayes')\n",
    "plt.show()"
   ]
  },
  {
   "cell_type": "code",
   "execution_count": 135,
   "id": "a229938e",
   "metadata": {},
   "outputs": [
    {
     "name": "stdout",
     "output_type": "stream",
     "text": [
      "              precision    recall  f1-score   support\n",
      "\n",
      "      Beauty       0.99      0.99      0.99       383\n",
      "      Comedy       0.98      0.99      0.99       290\n",
      "         DIY       0.96      0.99      0.98       402\n",
      "     fashion       0.98      0.97      0.98       383\n",
      "        food       0.99      0.98      0.98       406\n",
      "      gaming       0.98      0.98      0.98       367\n",
      "      travel       1.00      0.99      0.99       405\n",
      "\n",
      "    accuracy                           0.98      2636\n",
      "   macro avg       0.98      0.98      0.98      2636\n",
      "weighted avg       0.98      0.98      0.98      2636\n",
      "\n"
     ]
    },
    {
     "data": {
      "image/png": "[encoded data removed]",
      "text/plain": [
       "<Figure size 720x720 with 2 Axes>"
      ]
     },
     "metadata": {
      "needs_background": "light"
     },
     "output_type": "display_data"
    },
    {
     "data": {
      "image/png": "[encoded data removed]",
      "text/plain": [
       "<Figure size 432x288 with 1 Axes>"
      ]
     },
     "metadata": {
      "needs_background": "light"
     },
     "output_type": "display_data"
    }
   ],
   "source": [
    "# SVM\n",
    "y_pred = svm.predict(test_features)\n",
    "y_probas = svm.predict_proba(test_features)\n",
    "\n",
    "print(metrics.classification_report(y_test, y_pred, \n",
    "                                    target_names=list(le.classes_)))\n",
    "\n",
    "conf_mat = confusion_matrix(y_test, y_pred)\n",
    "fig, ax = plt.subplots(figsize=(10,10))\n",
    "sns.heatmap(conf_mat, annot=True, fmt='d', xticklabels=list(le.classes_), yticklabels=list(le.classes_))\n",
    "plt.ylabel('Actual')\n",
    "plt.xlabel('Predicted')\n",
    "plt.title('Confusion Matrix - SVM')\n",
    "plt.show()\n",
    "\n",
    "skplt.metrics.plot_precision_recall(y_test, y_probas)\n",
    "plt.title('Precision-Recall Curve - SVM')\n",
    "plt.show()"
   ]
  },
  {
   "cell_type": "code",
   "execution_count": 136,
   "id": "fff2c5f9",
   "metadata": {},
   "outputs": [
    {
     "name": "stdout",
     "output_type": "stream",
     "text": [
      "              precision    recall  f1-score   support\n",
      "\n",
      "      Beauty       0.99      0.88      0.93       383\n",
      "      Comedy       0.99      0.80      0.89       290\n",
      "         DIY       0.97      0.88      0.92       402\n",
      "     fashion       1.00      0.81      0.89       383\n",
      "        food       0.99      0.83      0.90       406\n",
      "      gaming       0.53      0.99      0.69       367\n",
      "      travel       0.99      0.88      0.93       405\n",
      "\n",
      "    accuracy                           0.87      2636\n",
      "   macro avg       0.92      0.87      0.88      2636\n",
      "weighted avg       0.92      0.87      0.88      2636\n",
      "\n"
     ]
    },
    {
     "data": {
      "image/png": "[encoded data removed]",
      "text/plain": [
       "<Figure size 720x720 with 2 Axes>"
      ]
     },
     "metadata": {
      "needs_background": "light"
     },
     "output_type": "display_data"
    },
    {
     "data": {
      "image/png": "[encoded data removed]",
      "text/plain": [
       "<Figure size 432x288 with 1 Axes>"
      ]
     },
     "metadata": {
      "needs_background": "light"
     },
     "output_type": "display_data"
    }
   ],
   "source": [
    "# Adaboost Classifier\n",
    "y_pred = adaboost.predict(test_features)\n",
    "y_probas = adaboost.predict_proba(test_features)\n",
    "\n",
    "print(metrics.classification_report(y_test, y_pred, \n",
    "                                    target_names=list(le.classes_)))\n",
    "\n",
    "conf_mat = confusion_matrix(y_test, y_pred)\n",
    "fig, ax = plt.subplots(figsize=(10,10))\n",
    "sns.heatmap(conf_mat, annot=True, fmt='d', xticklabels=list(le.classes_), yticklabels=list(le.classes_))\n",
    "plt.ylabel('Actual')\n",
    "plt.xlabel('Predicted')\n",
    "plt.title('Confusion Matrix - Adaboost Classifier')\n",
    "plt.show()\n",
    "\n",
    "skplt.metrics.plot_precision_recall(y_test, y_probas)\n",
    "plt.title('Precision-Recall Curve - Adaboost Classifier')\n",
    "plt.show()"
   ]
  },
  {
   "cell_type": "code",
   "execution_count": 137,
   "id": "9e3ef837",
   "metadata": {},
   "outputs": [
    {
     "name": "stdout",
     "output_type": "stream",
     "text": [
      "              precision    recall  f1-score   support\n",
      "\n",
      "      Beauty       0.99      0.98      0.99       382\n",
      "      Comedy       0.97      0.98      0.98       336\n",
      "         DIY       0.97      0.98      0.98       389\n",
      "     fashion       0.98      0.96      0.97       370\n",
      "        food       1.00      0.99      0.99       382\n",
      "      gaming       0.98      0.98      0.98       359\n",
      "      travel       0.98      1.00      0.99       418\n",
      "\n",
      "    accuracy                           0.98      2636\n",
      "   macro avg       0.98      0.98      0.98      2636\n",
      "weighted avg       0.98      0.98      0.98      2636\n",
      "\n"
     ]
    },
    {
     "data": {
      "image/png": "[encoded data removed]",
      "text/plain": [
       "<Figure size 720x720 with 2 Axes>"
      ]
     },
     "metadata": {
      "needs_background": "light"
     },
     "output_type": "display_data"
    },
    {
     "data": {
      "image/png": "[encoded data removed]",
      "text/plain": [
       "<Figure size 432x288 with 1 Axes>"
      ]
     },
     "metadata": {
      "needs_background": "light"
     },
     "output_type": "display_data"
    }
   ],
   "source": [
    "X_train, X_test, Y_train, Y_test = train_test_split(X,Y, random_state = 42)\n",
    "y_probas = model.predict(X_test)\n",
    "y_pred = np.argmax(y_probas, axis=1)\n",
    "y_test = np.argmax(Y_test, axis=1)\n",
    "\n",
    "print(metrics.classification_report(y_test, y_pred, \n",
    "                                    target_names=list(le.classes_)))\n",
    "\n",
    "conf_mat = confusion_matrix(y_test, y_pred)\n",
    "fig, ax = plt.subplots(figsize=(10,10))\n",
    "sns.heatmap(conf_mat, annot=True, fmt='d', xticklabels=list(le.classes_), yticklabels=list(le.classes_))\n",
    "plt.ylabel('Actual')\n",
    "plt.xlabel('Predicted')\n",
    "plt.title('Confusion Matrix - LSTM')\n",
    "plt.show()\n",
    "\n",
    "skplt.metrics.plot_precision_recall(y_test, y_probas)\n",
    "plt.title('Precision-Recall Curve - LSTM')\n",
    "plt.show()\n"
   ]
  },
  {
   "cell_type": "markdown",
   "id": "340dc31e",
   "metadata": {},
   "source": [
    "# Result :\n",
    "### LSTM > SVM > Naive Bayes > AdaBoost"
   ]
  },
  {
   "cell_type": "code",
   "execution_count": null,
   "id": "203b447e",
   "metadata": {},
   "outputs": [],
   "source": []
  }
 ],
 "metadata": {
  "kernelspec": {
   "display_name": "Python 3 (ipykernel)",
   "language": "python",
   "name": "python3"
  },
  "language_info": {
   "codemirror_mode": {
    "name": "ipython",
    "version": 3
   },
   "file_extension": ".py",
   "mimetype": "text/x-python",
   "name": "python",
   "nbconvert_exporter": "python",
   "pygments_lexer": "ipython3",
   "version": "3.9.7"
  },
  "varInspector": {
   "cols": {
    "lenName": 16,
    "lenType": 16,
    "lenVar": 40
   },
   "kernels_config": {
    "python": {
     "delete_cmd_postfix": "",
     "delete_cmd_prefix": "del ",
     "library": "var_list.py",
     "varRefreshCmd": "print(var_dic_list())"
    },
    "r": {
     "delete_cmd_postfix": ") ",
     "delete_cmd_prefix": "rm(",
     "library": "var_list.r",
     "varRefreshCmd": "cat(var_dic_list()) "
    }
   },
   "types_to_exclude": [
    "module",
    "function",
    "builtin_function_or_method",
    "instance",
    "_Feature"
   ],
   "window_display": false
  }
 },
 "nbformat": 4,
 "nbformat_minor": 5
}
